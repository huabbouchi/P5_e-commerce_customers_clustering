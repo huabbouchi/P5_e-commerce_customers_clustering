{
 "cells": [
  {
   "cell_type": "markdown",
   "id": "f6f94c3a",
   "metadata": {},
   "source": [
    "<center>\n",
    "    <img src=\"logo_openclassrooms.png\" width=\"200\" alt=\"data scientist logo\"  />\n",
    "    <img src=\"logo_data_scientist.png\" width=\"200\" alt=\"data scientist logo\"  />\n",
    "    <strong> Data Scientist </strong>\n",
    "</center>\n",
    "\n",
    "\n",
    "# Projet 5: Segmentez des clients d'un site e-commerce\n",
    "\n",
    "## Nettoyage et analyse exploratoire.\n",
    "\n",
    "### Sommaire\n",
    "\n",
    "- <a href=\"#C1\">Présentation</a>\n",
    "\n",
    "- <a href=\"#C2\">Monthly ARI scores</a>\n",
    "\n",
    "- <a href=\"#C3\">Monthly ARI scores _ bis</a>\n",
    "\n",
    "- <a href=\"#C4\">Weekly ARI scores</a>\n"
   ]
  },
  {
   "cell_type": "markdown",
   "id": "4e6318c8",
   "metadata": {},
   "source": [
    "## <a name=\"C1\">Présentation</a>\n",
    "\n",
    "Je suis consultant pour Olist, une entreprise brésilienne qui propose une solution de vente sur les marketplaces en ligne.\n",
    "***\n",
    "\n",
    "<center>\n",
    "<img src=\"olist_homepage.png\" width=\"800\" alt=\"olist_homepage.png\"  />\n",
    "<strong> olist homepage </strong>\n",
    "</center>\n",
    "\n",
    "***\n",
    "### Le besoin de olist\n",
    "\n",
    "Olist souhaite que je fournisse à ses équipes d'e-commerce __une segmentation des clients__ qu’elles pourront utiliser au quotidien pour leurs campagnes de communication.\n",
    "\n",
    "mon objectif est de __comprendre les différents types d’utilisateurs__ grâce à leur comportement et à leurs données personnelles.\n",
    "\n",
    "Je devrai __fournir à l’équipe marketing une description actionable__ de ma segmentation et de sa logique sous-jacente pour une utilisation optimale, ainsi qu’une __proposition de contrat de maintenance__ basée sur une analyse de la stabilité des segments au cours du temps.\n",
    "\n",
    "### Ma mission\n",
    "\n",
    "> ma mission est d’aider les équipes d’Olist à comprendre les différents types d'utilisateurs. Je utiliserai donc des __méthodes non supervisées pour regrouper des clients de profils similaires__. Ces catégories pourront être utilisées par l’équipe Marketing pour mieux communiquer.\n",
    "\n",
    "1. Je crée un notebook d’analyse exploratoire.\n",
    "   \n",
    "1. Je crée un notebook de segmentation :\n",
    "\n",
    "   - La segmentation proposée doit être exploitable et facile d’utilisation par l'équipe Marketing.\n",
    "   - Elle doit au minimum pouvoir différencier les bons et moins bons clients en termes de commandes et de satisfaction. \n",
    "   - La segmentation doit être sur l’ensemble des clients.\n",
    "   \n",
    "1. Dans un deuxième temps, une fois le modèle de segmentation choisi, olis souhaiteraient que je les fasse une recommandation de fréquence à laquelle la segmentation doit être mise à jour pour rester pertinente, afin de pouvoir effectuer un devis de contrat de maintenance.\n",
    "\n",
    "1. Pour information, le code fourni doit respecter la convention __PEP8__, pour être utilisable par Olist."
   ]
  },
  {
   "cell_type": "code",
   "execution_count": 62,
   "id": "e1a24e26",
   "metadata": {},
   "outputs": [],
   "source": [
    "%matplotlib inline\n",
    "\n",
    "import pandas as pd\n",
    "import numpy as np\n",
    "import matplotlib.pyplot as plt\n",
    "import seaborn as sns\n",
    "\n",
    "# hide warnings\n",
    "import warnings\n",
    "warnings.filterwarnings('ignore')\n",
    "\n",
    "from sklearn.metrics import adjusted_rand_score\n",
    "from scipy import stats\n",
    "from sklearn.cluster import KMeans\n",
    "from sklearn.preprocessing import StandardScaler"
   ]
  },
  {
   "cell_type": "code",
   "execution_count": 63,
   "id": "c1d12562",
   "metadata": {},
   "outputs": [],
   "source": [
    "pd.options.display.max_rows=100\n",
    "pd.options.display.max_columns=100"
   ]
  },
  {
   "cell_type": "code",
   "execution_count": 64,
   "id": "02d0ade2",
   "metadata": {},
   "outputs": [
    {
     "name": "stdout",
     "output_type": "stream",
     "text": [
      "<class 'pandas.core.frame.DataFrame'>\n",
      "Int64Index: 96093 entries, 0 to 96095\n",
      "Data columns (total 7 columns):\n",
      " #   Column      Non-Null Count  Dtype  \n",
      "---  ------      --------------  -----  \n",
      " 0   recency     96093 non-null  int64  \n",
      " 1   frequency   96093 non-null  int64  \n",
      " 2   monetary    96093 non-null  float64\n",
      " 3   year        96093 non-null  int64  \n",
      " 4   month       96093 non-null  int64  \n",
      " 5   year_month  96093 non-null  object \n",
      " 6   year_week   96093 non-null  object \n",
      "dtypes: float64(1), int64(4), object(2)\n",
      "memory usage: 5.9+ MB\n"
     ]
    }
   ],
   "source": [
    "df = pd.read_csv('rfm_date_for_clustering_ari_score.csv')\n",
    "df.drop(index=df[df['monetary']==0].index, inplace=True)\n",
    "df.info()"
   ]
  },
  {
   "cell_type": "markdown",
   "id": "df615bf5",
   "metadata": {},
   "source": [
    "## <a name=\"C2\" style='background:yellow'>Monthly ARI scores</a>\n"
   ]
  },
  {
   "cell_type": "markdown",
   "id": "11c68a58",
   "metadata": {},
   "source": [
    "## <span style='background:pink'> creation of monthly dataframes necessaries for the ARI score modeling <span/>"
   ]
  },
  {
   "cell_type": "code",
   "execution_count": 65,
   "id": "65bdf3f4",
   "metadata": {},
   "outputs": [],
   "source": [
    "dff = []\n",
    "\n",
    "for i in range(0, 9):\n",
    "    dff.append(pd.DataFrame())\n",
    "\n",
    "dff[0] = df[df['year'] == 2017][['recency', 'frequency', 'monetary']]\n",
    "\n",
    "for i in range(1, 9):\n",
    "    dff[i] = df[(df['year_month'] == '2018-0%s' %i)][['recency', 'frequency', 'monetary']].append(dff[i-1]).sort_index()"
   ]
  },
  {
   "cell_type": "markdown",
   "id": "902b43cc",
   "metadata": {},
   "source": [
    "# <span style='background:pink'> creation of models necessaries for the ARI score modeling <span/>"
   ]
  },
  {
   "cell_type": "markdown",
   "id": "7880dee6",
   "metadata": {},
   "source": [
    "## <span style='background:lightblue'> \"M0\" <span/>"
   ]
  },
  {
   "cell_type": "code",
   "execution_count": 66,
   "id": "c2a10f5b",
   "metadata": {},
   "outputs": [
    {
     "name": "stdout",
     "output_type": "stream",
     "text": [
      "CPU times: user 54.9 s, sys: 1.25 s, total: 56.2 s\n",
      "Wall time: 3.73 s\n"
     ]
    }
   ],
   "source": [
    "%%time\n",
    "\n",
    "#initiate dataframes \n",
    "dft = []  # t for transformed \n",
    "dfn = []  # n for normatized\n",
    "model = []\n",
    "\n",
    "for i in range(0, 9):\n",
    "    #boxcox transformation for the dataframe\n",
    "    dft.append(pd.DataFrame())\n",
    "    dft[i]['recency'] = stats.boxcox(dff[i]['recency'])[0]\n",
    "    dft[i]['frequency'] = stats.boxcox(dff[i]['frequency'])[0]\n",
    "    dft[i]['monetary'] = stats.boxcox(dff[i]['monetary'])[0]\n",
    "\n",
    "\n",
    "    # normalize the data\n",
    "    scalar = StandardScaler()\n",
    "    dfn.append(pd.DataFrame())\n",
    "    dfn[i] = scalar.fit_transform(dft[i]) \n",
    "\n",
    "    # fit the clustering model \"m0\"\n",
    "    m = KMeans(n_clusters=6).fit(dfn[i])\n",
    "    model.append(m)"
   ]
  },
  {
   "cell_type": "markdown",
   "id": "59c042dc",
   "metadata": {},
   "source": [
    "# <span style='background:pink'> prediction of (labels_true, labels_pred) necessaries for the ARI score modeling <span/>"
   ]
  },
  {
   "cell_type": "code",
   "execution_count": 67,
   "id": "c698583b",
   "metadata": {
    "collapsed": true
   },
   "outputs": [
    {
     "name": "stdout",
     "output_type": "stream",
     "text": [
      "(43364,)\n",
      "(43364,)\n",
      "(50394,)\n",
      "(50394,)\n",
      "(56853,)\n",
      "(56853,)\n",
      "(63836,)\n",
      "(63836,)\n",
      "(70575,)\n",
      "(70575,)\n",
      "(77258,)\n",
      "(77258,)\n",
      "(83258,)\n",
      "(83258,)\n",
      "(89391,)\n",
      "(89391,)\n",
      "(95760,)\n",
      "(95760,)\n"
     ]
    }
   ],
   "source": [
    "labels_true = []\n",
    "labels_pred = []\n",
    "\n",
    "for i in range(9):\n",
    "    true=model[i].predict(dfn[i])\n",
    "    labels_true.append(true)\n",
    "    pred=model[0].predict(dfn[i])\n",
    "    labels_pred.append(pred)\n",
    "    print(labels_true[i].shape)\n",
    "    print(labels_pred[i].shape)"
   ]
  },
  {
   "cell_type": "markdown",
   "id": "9ca2b85a",
   "metadata": {},
   "source": [
    "# <span style='background:pink'> calculation of the ARI scores <span/>"
   ]
  },
  {
   "cell_type": "code",
   "execution_count": 68,
   "id": "4e4d4dd2",
   "metadata": {},
   "outputs": [],
   "source": [
    "ari=[]\n",
    "for i in range(9):\n",
    "    ari.append(adjusted_rand_score(labels_true[i], labels_pred[i]))"
   ]
  },
  {
   "cell_type": "code",
   "execution_count": 69,
   "id": "26cc76a3",
   "metadata": {},
   "outputs": [
    {
     "data": {
      "image/png": "[encoded data removed]",
      "text/plain": [
       "<Figure size 864x432 with 1 Axes>"
      ]
     },
     "metadata": {
      "needs_background": "light"
     },
     "output_type": "display_data"
    }
   ],
   "source": [
    "plt.figure(figsize=(12, 6))\n",
    "\n",
    "sns.lineplot(x=range(9), y=ari)\n",
    "\n",
    "plt.xlabel('month - 2018', fontsize=18)\n",
    "plt.xticks(fontsize=16)\n",
    "\n",
    "plt.ylabel('ARI Scores', fontsize=18)\n",
    "plt.yticks(fontsize=16)\n",
    "\n",
    "plt.show()"
   ]
  },
  {
   "cell_type": "markdown",
   "id": "fb4d3ce1",
   "metadata": {},
   "source": [
    "## <a name=\"C3\" style='background:yellow'>Monthly ARI scores _ bis</a>\n"
   ]
  },
  {
   "cell_type": "markdown",
   "id": "49696d5a",
   "metadata": {},
   "source": [
    "## <span style='background:pink'> index for year 2017 <span/>"
   ]
  },
  {
   "cell_type": "code",
   "execution_count": 70,
   "id": "26625397",
   "metadata": {},
   "outputs": [
    {
     "data": {
      "text/plain": [
       "Int64Index([    0,     3,     5,     6,     7,     8,     9,    10,    11,\n",
       "               17,\n",
       "            ...\n",
       "            96080, 96082, 96084, 96086, 96087, 96088, 96089, 96090, 96091,\n",
       "            96093],\n",
       "           dtype='int64', length=43364)"
      ]
     },
     "execution_count": 70,
     "metadata": {},
     "output_type": "execute_result"
    }
   ],
   "source": [
    "index_initial = dff[0].index\n",
    "index_initial"
   ]
  },
  {
   "cell_type": "markdown",
   "id": "e444bff2",
   "metadata": {},
   "source": [
    "# <span style='background:pink'> creation of models_bis necessaries for the ARI score modeling <span/>"
   ]
  },
  {
   "cell_type": "code",
   "execution_count": 71,
   "id": "1f62e5c6",
   "metadata": {},
   "outputs": [
    {
     "data": {
      "text/html": [
       "<div>\n",
       "<style scoped>\n",
       "    .dataframe tbody tr th:only-of-type {\n",
       "        vertical-align: middle;\n",
       "    }\n",
       "\n",
       "    .dataframe tbody tr th {\n",
       "        vertical-align: top;\n",
       "    }\n",
       "\n",
       "    .dataframe thead th {\n",
       "        text-align: right;\n",
       "    }\n",
       "</style>\n",
       "<table border=\"1\" class=\"dataframe\">\n",
       "  <thead>\n",
       "    <tr style=\"text-align: right;\">\n",
       "      <th></th>\n",
       "      <th>recency</th>\n",
       "      <th>frequency</th>\n",
       "      <th>monetary</th>\n",
       "    </tr>\n",
       "  </thead>\n",
       "  <tbody>\n",
       "    <tr>\n",
       "      <th>0</th>\n",
       "      <td>381</td>\n",
       "      <td>2</td>\n",
       "      <td>185.53</td>\n",
       "    </tr>\n",
       "    <tr>\n",
       "      <th>3</th>\n",
       "      <td>333</td>\n",
       "      <td>1</td>\n",
       "      <td>107.78</td>\n",
       "    </tr>\n",
       "    <tr>\n",
       "      <th>5</th>\n",
       "      <td>465</td>\n",
       "      <td>1</td>\n",
       "      <td>96.12</td>\n",
       "    </tr>\n",
       "    <tr>\n",
       "      <th>6</th>\n",
       "      <td>555</td>\n",
       "      <td>1</td>\n",
       "      <td>81.16</td>\n",
       "    </tr>\n",
       "    <tr>\n",
       "      <th>7</th>\n",
       "      <td>520</td>\n",
       "      <td>1</td>\n",
       "      <td>51.84</td>\n",
       "    </tr>\n",
       "    <tr>\n",
       "      <th>...</th>\n",
       "      <td>...</td>\n",
       "      <td>...</td>\n",
       "      <td>...</td>\n",
       "    </tr>\n",
       "    <tr>\n",
       "      <th>96088</th>\n",
       "      <td>378</td>\n",
       "      <td>1</td>\n",
       "      <td>97.80</td>\n",
       "    </tr>\n",
       "    <tr>\n",
       "      <th>96089</th>\n",
       "      <td>629</td>\n",
       "      <td>1</td>\n",
       "      <td>90.88</td>\n",
       "    </tr>\n",
       "    <tr>\n",
       "      <th>96090</th>\n",
       "      <td>602</td>\n",
       "      <td>1</td>\n",
       "      <td>62.74</td>\n",
       "    </tr>\n",
       "    <tr>\n",
       "      <th>96091</th>\n",
       "      <td>588</td>\n",
       "      <td>1</td>\n",
       "      <td>43.70</td>\n",
       "    </tr>\n",
       "    <tr>\n",
       "      <th>96093</th>\n",
       "      <td>417</td>\n",
       "      <td>1</td>\n",
       "      <td>57.97</td>\n",
       "    </tr>\n",
       "  </tbody>\n",
       "</table>\n",
       "<p>43364 rows × 3 columns</p>\n",
       "</div>"
      ],
      "text/plain": [
       "       recency  frequency  monetary\n",
       "0          381          2    185.53\n",
       "3          333          1    107.78\n",
       "5          465          1     96.12\n",
       "6          555          1     81.16\n",
       "7          520          1     51.84\n",
       "...        ...        ...       ...\n",
       "96088      378          1     97.80\n",
       "96089      629          1     90.88\n",
       "96090      602          1     62.74\n",
       "96091      588          1     43.70\n",
       "96093      417          1     57.97\n",
       "\n",
       "[43364 rows x 3 columns]"
      ]
     },
     "execution_count": 71,
     "metadata": {},
     "output_type": "execute_result"
    }
   ],
   "source": [
    "dff[1][dff[1].index.isin(index_initial)]"
   ]
  },
  {
   "cell_type": "code",
   "execution_count": 72,
   "id": "ea8862a0",
   "metadata": {},
   "outputs": [
    {
     "name": "stdout",
     "output_type": "stream",
     "text": [
      "CPU times: user 569 ms, sys: 0 ns, total: 569 ms\n",
      "Wall time: 567 ms\n"
     ]
    }
   ],
   "source": [
    "%%time\n",
    "\n",
    "#initiate dataframes \n",
    "dft_bis = []  # t for transformed\n",
    "dfn_bis = []  # n for normatized\n",
    "\n",
    "for i in range(9):\n",
    "    #boxcox transformation for the dataframe\n",
    "    dft_bis.append(pd.DataFrame())\n",
    "    dft_bis[i]['recency'] = stats.boxcox(dff[i][dff[i].index.isin(index_initial)]['recency'])[0]\n",
    "    dft_bis[i]['frequency'] = stats.boxcox(dff[i][dff[i].index.isin(index_initial)]['frequency'])[0]\n",
    "    dft_bis[i]['monetary'] = stats.boxcox(dff[i][dff[i].index.isin(index_initial)]['monetary'])[0]\n",
    "\n",
    "\n",
    "    # normalize the data\n",
    "    scalar = StandardScaler()\n",
    "    dfn_bis.append(pd.DataFrame())\n",
    "    dfn_bis[i] = scalar.fit_transform(dft_bis[i]) "
   ]
  },
  {
   "cell_type": "markdown",
   "id": "bec89125",
   "metadata": {},
   "source": [
    "# <span style='background:pink'> prediction of (labels_true, labels_pred) necessaries for the ARI score modeling <span/>"
   ]
  },
  {
   "cell_type": "code",
   "execution_count": 73,
   "id": "ec53e2a5",
   "metadata": {},
   "outputs": [
    {
     "name": "stdout",
     "output_type": "stream",
     "text": [
      "(43364,)\n"
     ]
    }
   ],
   "source": [
    "labels_true = model[0].predict(dfn[0])\n",
    "print(labels_true.shape)"
   ]
  },
  {
   "cell_type": "code",
   "execution_count": 74,
   "id": "908a5570",
   "metadata": {
    "collapsed": true
   },
   "outputs": [
    {
     "name": "stdout",
     "output_type": "stream",
     "text": [
      "(43364,)\n",
      "(43364,)\n",
      "(43364,)\n",
      "(43364,)\n",
      "(43364,)\n",
      "(43364,)\n",
      "(43364,)\n",
      "(43364,)\n",
      "(43364,)\n"
     ]
    }
   ],
   "source": [
    "labels_pred = []\n",
    "\n",
    "for i in range(9):\n",
    "    pred=model[i].predict(dfn_bis[i])\n",
    "    labels_pred.append(pred)\n",
    "    print(labels_pred[i].shape)"
   ]
  },
  {
   "cell_type": "markdown",
   "id": "1b14c515",
   "metadata": {},
   "source": [
    "# <span style='background:pink'> calculation of the ARI scores <span/>"
   ]
  },
  {
   "cell_type": "code",
   "execution_count": 75,
   "id": "757f7306",
   "metadata": {},
   "outputs": [],
   "source": [
    "ari=[]\n",
    "for i in range(9):\n",
    "    ari.append(adjusted_rand_score(labels_true, labels_pred[i]))"
   ]
  },
  {
   "cell_type": "code",
   "execution_count": 76,
   "id": "c2aacef0",
   "metadata": {},
   "outputs": [
    {
     "data": {
      "image/png": "[encoded data removed]",
      "text/plain": [
       "<Figure size 864x432 with 1 Axes>"
      ]
     },
     "metadata": {
      "needs_background": "light"
     },
     "output_type": "display_data"
    }
   ],
   "source": [
    "plt.figure(figsize=(12, 6))\n",
    "\n",
    "sns.lineplot(x=range(9), y=ari)\n",
    "\n",
    "plt.xlabel('month - 2018', fontsize=18)\n",
    "plt.xticks(fontsize=16)\n",
    "\n",
    "plt.ylabel('ARI Scores', fontsize=18)\n",
    "plt.yticks(fontsize=16)\n",
    "\n",
    "plt.show()"
   ]
  },
  {
   "cell_type": "markdown",
   "id": "e22300ed",
   "metadata": {},
   "source": [
    "## <a name=\"C4\" style='background:yellow'>Weekly ARI scores</a>\n"
   ]
  },
  {
   "cell_type": "markdown",
   "id": "6225a481",
   "metadata": {},
   "source": [
    "## <span style='background:pink'> creation of weekly dataframes necessaries for the ARI score modeling <span/>"
   ]
  },
  {
   "cell_type": "code",
   "execution_count": 9,
   "id": "2ec2cf53",
   "metadata": {},
   "outputs": [],
   "source": [
    "dff = []\n",
    "\n",
    "for i in range(0, 35):\n",
    "    dff.append(pd.DataFrame())\n",
    "\n",
    "dff[0] = df[df['year'] == 2017][['recency', 'frequency', 'monetary']]\n",
    "\n",
    "for i in range(1, 10):\n",
    "    dff[i] = df[(df['year_week'] == '2018-0%s' %i)][['recency', 'frequency', 'monetary']].append(dff[i-1]).sort_index()\n",
    "\n",
    "for i in range(10, 35):\n",
    "    dff[i] = df[(df['year_week'] == '2018-%s' %i)][['recency', 'frequency', 'monetary']].append(dff[i-1]).sort_index()    \n",
    "    "
   ]
  },
  {
   "cell_type": "markdown",
   "id": "026d2d84",
   "metadata": {},
   "source": [
    "# <span style='background:pink'> creation of models necessaries for the ARI score modeling <span/>"
   ]
  },
  {
   "cell_type": "code",
   "execution_count": 10,
   "id": "b3a1bd76",
   "metadata": {},
   "outputs": [
    {
     "name": "stdout",
     "output_type": "stream",
     "text": [
      "CPU times: user 2min 42s, sys: 4.05 s, total: 2min 46s\n",
      "Wall time: 11.3 s\n"
     ]
    }
   ],
   "source": [
    "%%time\n",
    "\n",
    "#initiate dataframes \n",
    "dft = []  # t for transformed \n",
    "dfn = []  # n for normatized\n",
    "model = []\n",
    "\n",
    "for i in range(0, 35):\n",
    "    #boxcox transformation for the dataframe\n",
    "    dft.append(pd.DataFrame())\n",
    "    dft[i]['recency'] = stats.boxcox(dff[i]['recency'])[0]\n",
    "    dft[i]['frequency'] = stats.boxcox(dff[i]['frequency'])[0]\n",
    "    dft[i]['monetary'] = stats.boxcox(dff[i]['monetary'])[0]\n",
    "\n",
    "\n",
    "    # normalize the data\n",
    "    scalar = StandardScaler()\n",
    "    dfn.append(pd.DataFrame())\n",
    "    dfn[i] = scalar.fit_transform(dft[i]) \n",
    "\n",
    "    # fit the clustering model \"m0\"\n",
    "    m = KMeans(n_clusters=6).fit(dfn[i])\n",
    "    model.append(m)"
   ]
  },
  {
   "cell_type": "markdown",
   "id": "8919166d",
   "metadata": {},
   "source": [
    "# <span style='background:pink'> prediction of (labels_true, labels_pred) necessaries for the ARI score modeling <span/>"
   ]
  },
  {
   "cell_type": "code",
   "execution_count": 11,
   "id": "63e8a97e",
   "metadata": {
    "collapsed": true
   },
   "outputs": [
    {
     "name": "stdout",
     "output_type": "stream",
     "text": [
      "(43364,)\n",
      "(43364,)\n",
      "(44703,)\n",
      "(44703,)\n",
      "(46430,)\n",
      "(46430,)\n",
      "(48128,)\n",
      "(48128,)\n",
      "(49661,)\n",
      "(49661,)\n",
      "(51204,)\n",
      "(51204,)\n",
      "(52728,)\n",
      "(52728,)\n",
      "(54299,)\n",
      "(54299,)\n",
      "(55981,)\n",
      "(55981,)\n",
      "(57808,)\n",
      "(57808,)\n",
      "(59397,)\n",
      "(59397,)\n",
      "(60946,)\n",
      "(60946,)\n",
      "(62614,)\n",
      "(62614,)\n",
      "(64037,)\n",
      "(64037,)\n",
      "(65584,)\n",
      "(65584,)\n",
      "(67084,)\n",
      "(67084,)\n",
      "(68718,)\n",
      "(68718,)\n",
      "(70342,)\n",
      "(70342,)\n",
      "(72058,)\n",
      "(72058,)\n",
      "(73988,)\n",
      "(73988,)\n",
      "(75788,)\n",
      "(75788,)\n",
      "(76711,)\n",
      "(76711,)\n",
      "(77755,)\n",
      "(77755,)\n",
      "(79159,)\n",
      "(79159,)\n",
      "(80636,)\n",
      "(80636,)\n",
      "(82049,)\n",
      "(82049,)\n",
      "(83417,)\n",
      "(83417,)\n",
      "(84590,)\n",
      "(84590,)\n",
      "(85567,)\n",
      "(85567,)\n",
      "(87186,)\n",
      "(87186,)\n",
      "(88792,)\n",
      "(88792,)\n",
      "(90808,)\n",
      "(90808,)\n",
      "(92766,)\n",
      "(92766,)\n",
      "(94590,)\n",
      "(94590,)\n",
      "(95638,)\n",
      "(95638,)\n"
     ]
    }
   ],
   "source": [
    "labels_true = []\n",
    "labels_pred = []\n",
    "\n",
    "for i in range(35):\n",
    "    true=model[i].predict(dfn[i])\n",
    "    labels_true.append(true)\n",
    "    pred=model[0].predict(dfn[i])\n",
    "    labels_pred.append(pred)\n",
    "    print(labels_true[i].shape)\n",
    "    print(labels_pred[i].shape)"
   ]
  },
  {
   "cell_type": "markdown",
   "id": "dcd0cf36",
   "metadata": {},
   "source": [
    "# <span style='background:pink'> calculation of the ARI scores <span/>"
   ]
  },
  {
   "cell_type": "code",
   "execution_count": 12,
   "id": "46185bbe",
   "metadata": {},
   "outputs": [],
   "source": [
    "from sklearn.metrics import adjusted_rand_score\n",
    "ari=[]\n",
    "for i in range(35):\n",
    "    ari.append(adjusted_rand_score(labels_true[i], labels_pred[i]))"
   ]
  },
  {
   "cell_type": "code",
   "execution_count": 13,
   "id": "44f48480",
   "metadata": {},
   "outputs": [
    {
     "data": {
      "image/png": "[encoded data removed]",
      "text/plain": [
       "<Figure size 1296x432 with 1 Axes>"
      ]
     },
     "metadata": {},
     "output_type": "display_data"
    }
   ],
   "source": [
    "plt.figure(figsize=(18, 6))\n",
    "\n",
    "sns.lineplot(x=range(35), y=ari)\n",
    "\n",
    "plt.xlabel('week', fontsize=18)\n",
    "plt.xticks(np.arange(0, 35), fontsize=16)\n",
    "\n",
    "plt.ylabel('ARI Scores', fontsize=18)\n",
    "plt.yticks(fontsize=16)\n",
    "\n",
    "plt.show()"
   ]
  },
  {
   "cell_type": "markdown",
   "id": "f7265113",
   "metadata": {},
   "source": [
    "# <span style='background:tomato'> conclusion <span/>\n",
    "    \n",
    "### <p>we suggest for olist to remake the customer segmentation between 3 and 4 month, at last each 16 weeks.</p>     "
   ]
  },
  {
   "cell_type": "markdown",
   "id": "9874f949",
   "metadata": {},
   "source": [
    "# Fin"
   ]
  }
 ],
 "metadata": {
  "kernelspec": {
   "display_name": "Python 3 (ipykernel)",
   "language": "python",
   "name": "python3"
  },
  "language_info": {
   "codemirror_mode": {
    "name": "ipython",
    "version": 3
   },
   "file_extension": ".py",
   "mimetype": "text/x-python",
   "name": "python",
   "nbconvert_exporter": "python",
   "pygments_lexer": "ipython3",
   "version": "3.9.7"
  }
 },
 "nbformat": 4,
 "nbformat_minor": 5
}
